{
  "cells": [
    {
      "cell_type": "code",
      "execution_count": null,
      "metadata": {
        "id": "L_004GebeK6u"
      },
      "outputs": [],
      "source": [
        "from numpy import fliplr , flipud , arange , asarray\n",
        "from imutils import rotate_bound\n",
        "from cv2 import imread , imwrite\n",
        "from glob import glob\n",
        "from scipy import ndimage\n",
        "\n",
        "def image_affine_transform (image):\n",
        "    height ,width , colors = image.shape\n",
        "    transform = [[1,0,0],[0.5,1,0],[0,0,1]]\n",
        "    return ndimage.affine_transform(image , transform ,offset = (0,-height//2 ,0),output_shape=(height , width+height //2 , colors))\n",
        "\n",
        "def image_rotation(image,angle):\n",
        "    rotated = rotate_bound(image, angle)\n",
        "    return rotated\n",
        "\n",
        "def h_flip(image):\n",
        "    return fliplr(image)\n",
        "\n",
        "def v_flip(image):\n",
        "    return flipud(image)\n",
        "\n",
        "images_path = './*png'\n",
        "augmented_path ='./test'\n",
        "\n",
        "images=glob(images_path);\n",
        "\n",
        "for image in images:\n",
        "        image_number = 0\n",
        "        img=imread(image)\n",
        "        for angle in arange(15,20,5):\n",
        "            image_name = image.replace(\".png\",\"\")\n",
        "            img_rotate = image_rotation(img,angle)\n",
        "            image_number += 1\n",
        "            imwrite(f\"{augmented_path}/{image_name}aug{image_number}.png\",img_rotate)\n",
        "            img_hflip = h_flip(img)\n",
        "            image_number += 1\n",
        "            imwrite(f\"{augmented_path}/{image_name}aug{image_number}.png\",img_hflip)\n",
        "            img_aff_trans =image_affine_transform(img)\n",
        "            image_number += 1\n",
        "            imwrite(f\"{augmented_path}/{image_name}aug{image_number}.png\",img_aff_trans)"
      ]
    }
  ],
  "metadata": {
    "kernelspec": {
      "display_name": "Python 3",
      "language": "python",
      "name": "python3"
    },
    "language_info": {
      "name": "python",
      "version": "3.10.6 (main, Nov 14 2022, 16:10:14) [GCC 11.3.0]"
    },
    "orig_nbformat": 4,
    "vscode": {
      "interpreter": {
        "hash": "916dbcbb3f70747c44a77c7bcd40155683ae19c65e1c03b4aa3499c5328201f1"
      }
    },
    "colab": {
      "provenance": []
    }
  },
  "nbformat": 4,
  "nbformat_minor": 0
}