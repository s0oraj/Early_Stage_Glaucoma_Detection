{
  "cells": [
    {
      "cell_type": "code",
      "execution_count": null,
      "metadata": {
        "id": "l2KY7wuKeWzr",
        "outputId": "167ae3c6-7155-407d-d241-9e22cd121304"
      },
      "outputs": [
        {
          "name": "stdout",
          "output_type": "stream",
          "text": [
            "start\n"
          ]
        }
      ],
      "source": [
        "from concurrent.futures import ProcessPoolExecutor; #Importing Process Pool for creating Multiple process\n",
        "from os import cpu_count ;  #Getting number of threads / Virtual CPU Count in the system\n",
        "\n",
        "# IMPORTING LIBRARY FOR PROCESSING IMAGES\n",
        "\n",
        "from pywt import swtn;             #IT IS USED TO GET SWT(STATIONARY WAVELET FUNCTION )\n",
        "from  glob  import glob;                       #USED FOR FINDING ALL THE IMAGES IN THE SPECIFIED PATH\n",
        "from numpy import min , max\n",
        "from matplotlib.image import imsave ,imread\n",
        "#SPECIFYING PATH FOR STORING IMAGES IN STORAGE\n",
        "def normalization(image):\n",
        "    Imax = max(image)\n",
        "    Imin = min(image)\n",
        "    return (image - Imin) / (Imax - Imin) ;\n",
        "\n",
        "def startApp():\n",
        "    SavePath = \"SWT\"  #IMPORTING ALL IMAGES THAT ENDS WITH .png FILENAME AT THE END\n",
        "    ImagePath = \"*.jpg\"\n",
        "    SWT_Level = 1\n",
        "    AllImages = glob(ImagePath)\n",
        "\n",
        "    #LOOPING FOR EVERY IMAGES IN THE ALLImages LIST\n",
        "\n",
        "    for imgName in AllImages:\n",
        "        image = imread(imgName) # READING EACH IMAGES ITERATIVELY AND STORING IN img_rgb LIST AS ARRAY OF PIXELS [COLUMN][ROW][RED,BLUE,GREEN]\n",
        "        image = normalization(image)\n",
        "        [level1,extra]= swtn(image[:,:], wavelet=\"haar\", level=SWT_Level, start_level=0, axes=None, trim_approx=True, norm=True) #USING SWT FUNCTION\n",
        "        imsave(f'{SavePath}/SWT_Level_{SWT_Level}__{imgName.replace(\"jpg\",\"png\")}',level1)  #STORING THE PROCESSED IMAGE IN THE SPECIFIED PATH\n",
        "\n",
        "def createWorker(number_of_Worker_):\n",
        "    print(\"start\")\n",
        "    with ProcessPoolExecutor(number_of_Worker_) as executor:\n",
        "        executor.map(startApp())\n",
        "\n",
        "def main():\n",
        "    createWorker(cpu_count())  # getting Number of threads / virtual cpu in a system\n",
        "\n",
        "if __name__ == \"__main__\":\n",
        "    main()"
      ]
    }
  ],
  "metadata": {
    "kernelspec": {
      "display_name": "Python 3",
      "language": "python",
      "name": "python3"
    },
    "language_info": {
      "codemirror_mode": {
        "name": "ipython",
        "version": 3
      },
      "file_extension": ".py",
      "mimetype": "text/x-python",
      "name": "python",
      "nbconvert_exporter": "python",
      "pygments_lexer": "ipython3",
      "version": "3.10.6 (main, Nov 14 2022, 16:10:14) [GCC 11.3.0]"
    },
    "orig_nbformat": 4,
    "vscode": {
      "interpreter": {
        "hash": "916dbcbb3f70747c44a77c7bcd40155683ae19c65e1c03b4aa3499c5328201f1"
      }
    },
    "colab": {
      "provenance": []
    }
  },
  "nbformat": 4,
  "nbformat_minor": 0
}